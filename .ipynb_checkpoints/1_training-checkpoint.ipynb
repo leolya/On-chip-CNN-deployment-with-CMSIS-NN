{
 "cells": [
  {
   "cell_type": "markdown",
   "metadata": {},
   "source": [
    "## MNIST Classification"
   ]
  },
  {
   "cell_type": "code",
   "execution_count": 16,
   "metadata": {},
   "outputs": [],
   "source": [
    "import tensorflow as tf\n",
    "import numpy as np\n",
    "import matplotlib.pyplot as plt\n",
    "\n",
    "from tensorflow.keras import Model\n",
    "from tensorflow.keras.layers import Conv2D, MaxPool2D, Input, ReLU, Flatten, Dense, Activation, Dropout, Softmax, GlobalAveragePooling2D\n",
    "from tensorflow.keras.optimizers import Adam"
   ]
  },
  {
   "cell_type": "markdown",
   "metadata": {},
   "source": [
    "### Load the dataset"
   ]
  },
  {
   "cell_type": "code",
   "execution_count": 17,
   "metadata": {},
   "outputs": [
    {
     "name": "stdout",
     "output_type": "stream",
     "text": [
      "(60000, 28, 28, 1)\n",
      "(60000, 10)\n",
      "(10000, 28, 28, 1)\n",
      "(10000, 10)\n"
     ]
    }
   ],
   "source": [
    "x_train = np.load('./dataset/x_train.npy')\n",
    "y_train = np.load('./dataset/y_train.npy')\n",
    "x_test = np.load('./dataset/x_test.npy')\n",
    "y_test = np.load('./dataset/y_test.npy')\n",
    "\n",
    "print(x_train.shape)\n",
    "print(y_train.shape)\n",
    "print(x_test.shape)\n",
    "print(y_test.shape)\n",
    "\n",
    "x_train = 2*x_train - 1\n",
    "x_test = 2*x_test - 1"
   ]
  },
  {
   "cell_type": "markdown",
   "metadata": {},
   "source": [
    "### Define the model"
   ]
  },
  {
   "cell_type": "code",
   "execution_count": 18,
   "metadata": {},
   "outputs": [],
   "source": [
    "def CNN():\n",
    "    inputs = Input(shape=(28,28,1))\n",
    "    \n",
    "    conv1 = Conv2D(16, 3, padding='same', name='conv1')(inputs)\n",
    "    conv1 = ReLU()(conv1)\n",
    "    \n",
    "    pool1 = MaxPool2D(2)(conv1)\n",
    "        \n",
    "    conv2 = Conv2D(32, 3, padding='same', name='conv2')(pool1)\n",
    "    conv2 = ReLU()(conv2)\n",
    "    \n",
    "    pool2 = MaxPool2D(2)(conv2)\n",
    "    \n",
    "    conv3 = Conv2D(64, 3, padding='same', name='conv3')(pool2)\n",
    "    conv3 = ReLU()(conv3)\n",
    "    \n",
    "    pool3 = GlobalAveragePooling2D()(conv3)\n",
    "    \n",
    "    fc1 = Flatten()(conv3)\n",
    "    fc1 = Dense(64)(fc1)\n",
    "    fc1 = ReLU()(fc1)\n",
    "    \n",
    "    fc2 = Dense(10)(fc1)\n",
    "    outputs =Softmax()(fc2)\n",
    "    \n",
    "    return Model(inputs, outputs)"
   ]
  },
  {
   "cell_type": "code",
   "execution_count": 19,
   "metadata": {
    "scrolled": true
   },
   "outputs": [
    {
     "name": "stdout",
     "output_type": "stream",
     "text": [
      "Model: \"functional_9\"\n",
      "_________________________________________________________________\n",
      "Layer (type)                 Output Shape              Param #   \n",
      "=================================================================\n",
      "input_7 (InputLayer)         [(None, 28, 28, 1)]       0         \n",
      "_________________________________________________________________\n",
      "conv1 (Conv2D)               (None, 28, 28, 16)        160       \n",
      "_________________________________________________________________\n",
      "re_lu_23 (ReLU)              (None, 28, 28, 16)        0         \n",
      "_________________________________________________________________\n",
      "max_pooling2d_12 (MaxPooling (None, 14, 14, 16)        0         \n",
      "_________________________________________________________________\n",
      "conv2 (Conv2D)               (None, 14, 14, 32)        4640      \n",
      "_________________________________________________________________\n",
      "re_lu_24 (ReLU)              (None, 14, 14, 32)        0         \n",
      "_________________________________________________________________\n",
      "max_pooling2d_13 (MaxPooling (None, 7, 7, 32)          0         \n",
      "_________________________________________________________________\n",
      "conv3 (Conv2D)               (None, 7, 7, 64)          18496     \n",
      "_________________________________________________________________\n",
      "re_lu_25 (ReLU)              (None, 7, 7, 64)          0         \n",
      "_________________________________________________________________\n",
      "flatten_5 (Flatten)          (None, 3136)              0         \n",
      "_________________________________________________________________\n",
      "dense_9 (Dense)              (None, 64)                200768    \n",
      "_________________________________________________________________\n",
      "re_lu_26 (ReLU)              (None, 64)                0         \n",
      "_________________________________________________________________\n",
      "dense_10 (Dense)             (None, 10)                650       \n",
      "_________________________________________________________________\n",
      "softmax_4 (Softmax)          (None, 10)                0         \n",
      "=================================================================\n",
      "Total params: 224,714\n",
      "Trainable params: 224,714\n",
      "Non-trainable params: 0\n",
      "_________________________________________________________________\n"
     ]
    }
   ],
   "source": [
    "adam = Adam(lr=0.001)\n",
    "model = CNN()\n",
    "model.compile(loss='categorical_crossentropy', optimizer=adam, metrics=['categorical_accuracy'])\n",
    "model.summary()"
   ]
  },
  {
   "cell_type": "markdown",
   "metadata": {},
   "source": [
    "### Training"
   ]
  },
  {
   "cell_type": "code",
   "execution_count": 20,
   "metadata": {
    "scrolled": true
   },
   "outputs": [
    {
     "name": "stdout",
     "output_type": "stream",
     "text": [
      "Epoch 1/20\n",
      "938/938 [==============================] - 3s 3ms/step - loss: 0.1609 - categorical_accuracy: 0.9517 - val_loss: 0.0390 - val_categorical_accuracy: 0.9876\n",
      "Epoch 2/20\n",
      "938/938 [==============================] - 2s 2ms/step - loss: 0.0439 - categorical_accuracy: 0.9863 - val_loss: 0.0427 - val_categorical_accuracy: 0.9864\n",
      "Epoch 3/20\n",
      "938/938 [==============================] - 2s 2ms/step - loss: 0.0314 - categorical_accuracy: 0.9896 - val_loss: 0.0318 - val_categorical_accuracy: 0.9888\n",
      "Epoch 4/20\n",
      "938/938 [==============================] - 2s 2ms/step - loss: 0.0237 - categorical_accuracy: 0.9926 - val_loss: 0.0285 - val_categorical_accuracy: 0.9906\n",
      "Epoch 5/20\n",
      "938/938 [==============================] - 2s 2ms/step - loss: 0.0205 - categorical_accuracy: 0.9935 - val_loss: 0.0318 - val_categorical_accuracy: 0.9899\n",
      "Epoch 6/20\n",
      "938/938 [==============================] - 2s 2ms/step - loss: 0.0157 - categorical_accuracy: 0.9951 - val_loss: 0.0325 - val_categorical_accuracy: 0.9901\n",
      "Epoch 7/20\n",
      "938/938 [==============================] - 2s 2ms/step - loss: 0.0138 - categorical_accuracy: 0.9953 - val_loss: 0.0532 - val_categorical_accuracy: 0.9845\n",
      "Epoch 8/20\n",
      "938/938 [==============================] - 2s 2ms/step - loss: 0.0108 - categorical_accuracy: 0.9964 - val_loss: 0.0396 - val_categorical_accuracy: 0.9897\n",
      "Epoch 9/20\n",
      "938/938 [==============================] - 2s 2ms/step - loss: 0.0113 - categorical_accuracy: 0.9962 - val_loss: 0.0409 - val_categorical_accuracy: 0.9892\n",
      "Epoch 10/20\n",
      "938/938 [==============================] - 2s 2ms/step - loss: 0.0089 - categorical_accuracy: 0.9969 - val_loss: 0.0329 - val_categorical_accuracy: 0.9908\n",
      "Epoch 11/20\n",
      "938/938 [==============================] - 2s 2ms/step - loss: 0.0071 - categorical_accuracy: 0.9975 - val_loss: 0.0361 - val_categorical_accuracy: 0.9905\n",
      "Epoch 12/20\n",
      "938/938 [==============================] - 2s 2ms/step - loss: 0.0079 - categorical_accuracy: 0.9972 - val_loss: 0.0453 - val_categorical_accuracy: 0.9896\n",
      "Epoch 13/20\n",
      "938/938 [==============================] - 2s 2ms/step - loss: 0.0080 - categorical_accuracy: 0.9971 - val_loss: 0.0353 - val_categorical_accuracy: 0.9910\n",
      "Epoch 14/20\n",
      "938/938 [==============================] - 2s 2ms/step - loss: 0.0054 - categorical_accuracy: 0.9981 - val_loss: 0.0477 - val_categorical_accuracy: 0.9885\n",
      "Epoch 15/20\n",
      "938/938 [==============================] - 2s 2ms/step - loss: 0.0052 - categorical_accuracy: 0.9984 - val_loss: 0.0440 - val_categorical_accuracy: 0.9910\n",
      "Epoch 16/20\n",
      "938/938 [==============================] - 2s 2ms/step - loss: 0.0067 - categorical_accuracy: 0.9980 - val_loss: 0.0361 - val_categorical_accuracy: 0.9915\n",
      "Epoch 17/20\n",
      "938/938 [==============================] - 2s 2ms/step - loss: 0.0045 - categorical_accuracy: 0.9984 - val_loss: 0.0367 - val_categorical_accuracy: 0.9927\n",
      "Epoch 18/20\n",
      "938/938 [==============================] - 2s 2ms/step - loss: 0.0048 - categorical_accuracy: 0.9985 - val_loss: 0.0478 - val_categorical_accuracy: 0.9898\n",
      "Epoch 19/20\n",
      "938/938 [==============================] - 2s 2ms/step - loss: 0.0057 - categorical_accuracy: 0.9984 - val_loss: 0.0403 - val_categorical_accuracy: 0.9910\n",
      "Epoch 20/20\n",
      "938/938 [==============================] - 2s 2ms/step - loss: 0.0028 - categorical_accuracy: 0.9991 - val_loss: 0.0402 - val_categorical_accuracy: 0.9915\n"
     ]
    },
    {
     "data": {
      "image/png": "[encoded data removed]",
      "text/plain": [
       "<Figure size 432x288 with 1 Axes>"
      ]
     },
     "metadata": {
      "needs_background": "light"
     },
     "output_type": "display_data"
    },
    {
     "data": {
      "image/png": "[encoded data removed]",
      "text/plain": [
       "<Figure size 432x288 with 1 Axes>"
      ]
     },
     "metadata": {
      "needs_background": "light"
     },
     "output_type": "display_data"
    }
   ],
   "source": [
    "history = model.fit(x_train, y_train, epochs = 20, batch_size = 64, validation_data=(x_test, y_test), shuffle=True)\n",
    "\n",
    "plt.plot(history.history['loss'])\n",
    "plt.plot(history.history['val_loss'])\n",
    "plt.title('Model loss')\n",
    "plt.ylabel('Loss')\n",
    "plt.xlabel('Epoch')\n",
    "plt.legend(['Train', 'Test'], loc='upper left')\n",
    "plt.show()\n",
    "\n",
    "plt.plot(history.history['categorical_accuracy'])\n",
    "plt.plot(history.history['val_categorical_accuracy'])\n",
    "plt.title('Model accuracy')\n",
    "plt.ylabel('Accuracy')\n",
    "plt.xlabel('Epoch')\n",
    "plt.legend(['Train', 'Test'], loc='upper left')\n",
    "plt.show()\n",
    "\n",
    "model.save('./model/model.h5')"
   ]
  },
  {
   "cell_type": "markdown",
   "metadata": {},
   "source": [
    "### Evaluation"
   ]
  },
  {
   "cell_type": "code",
   "execution_count": 28,
   "metadata": {},
   "outputs": [
    {
     "name": "stdout",
     "output_type": "stream",
     "text": [
      "accuracy:  0.9915000200271606\n",
      "label: 6\n",
      "prediction:  6\n"
     ]
    },
    {
     "data": {
      "image/png": "[encoded data removed]",
      "text/plain": [
       "<Figure size 432x288 with 1 Axes>"
      ]
     },
     "metadata": {
      "needs_background": "light"
     },
     "output_type": "display_data"
    }
   ],
   "source": [
    "accuracy = model.evaluate(x_test, y_test, verbose=0)\n",
    "print('accuracy: ', accuracy[1])\n",
    "\n",
    "# select a test image\n",
    "num = 91\n",
    "\n",
    "index_real = np.unravel_index(y_test[num].argmax(), y_test[num].shape)\n",
    "print('label:', index_real[0])\n",
    "\n",
    "category = model.predict(np.expand_dims(x_test[num],axis=0))\n",
    "index_predict = np.unravel_index(category.argmax(), category.shape)\n",
    "print('prediction: ', index_predict[1])\n",
    "\n",
    "plt.imshow(np.squeeze(x_test[num]),cmap='gray')\n",
    "plt.show()"
   ]
  }
 ],
 "metadata": {
  "kernelspec": {
   "display_name": "Python 3",
   "language": "python",
   "name": "python3"
  },
  "language_info": {
   "codemirror_mode": {
    "name": "ipython",
    "version": 3
   },
   "file_extension": ".py",
   "mimetype": "text/x-python",
   "name": "python",
   "nbconvert_exporter": "python",
   "pygments_lexer": "ipython3",
   "version": "3.8.3"
  }
 },
 "nbformat": 4,
 "nbformat_minor": 2
}
