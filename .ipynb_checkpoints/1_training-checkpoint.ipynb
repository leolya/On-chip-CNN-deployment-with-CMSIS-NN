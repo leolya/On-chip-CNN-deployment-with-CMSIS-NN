{
 "cells": [
  {
   "cell_type": "markdown",
   "metadata": {},
   "source": [
    "## MNIST Classification"
   ]
  },
  {
   "cell_type": "code",
   "execution_count": 1,
   "metadata": {},
   "outputs": [],
   "source": [
    "import tensorflow as tf\n",
    "import numpy as np\n",
    "import matplotlib.pyplot as plt\n",
    "\n",
    "from tensorflow.keras import Model\n",
    "from tensorflow.keras.layers import Conv2D, MaxPool2D, Input, ReLU, Flatten, Dense, Activation, Dropout, Softmax, GlobalAveragePooling2D\n",
    "from tensorflow.keras.optimizers import Adam"
   ]
  },
  {
   "cell_type": "markdown",
   "metadata": {},
   "source": [
    "### Load the dataset"
   ]
  },
  {
   "cell_type": "code",
   "execution_count": 2,
   "metadata": {},
   "outputs": [
    {
     "name": "stdout",
     "output_type": "stream",
     "text": [
      "(60000, 28, 28, 1)\n",
      "(60000, 10)\n",
      "(10000, 28, 28, 1)\n",
      "(10000, 10)\n"
     ]
    }
   ],
   "source": [
    "x_train = np.load('./dataset/x_train.npy')\n",
    "y_train = np.load('./dataset/y_train.npy')\n",
    "x_test = np.load('./dataset/x_test.npy')\n",
    "y_test = np.load('./dataset/y_test.npy')\n",
    "\n",
    "print(x_train.shape)\n",
    "print(y_train.shape)\n",
    "print(x_test.shape)\n",
    "print(y_test.shape)\n",
    "\n",
    "x_train = 2*x_train - 1\n",
    "x_test = 2*x_test - 1"
   ]
  },
  {
   "cell_type": "markdown",
   "metadata": {},
   "source": [
    "### Define the model"
   ]
  },
  {
   "cell_type": "code",
   "execution_count": 3,
   "metadata": {},
   "outputs": [],
   "source": [
    "def CNN():\n",
    "    inputs = Input(shape=(28,28,1))\n",
    "    \n",
    "    conv1 = Conv2D(16, 3, padding='same', name='conv1')(inputs)\n",
    "    conv1 = ReLU()(conv1)\n",
    "    \n",
    "    pool1 = MaxPool2D(2)(conv1)\n",
    "        \n",
    "    conv2 = Conv2D(32, 3, padding='same', name='conv2')(pool1)\n",
    "    conv2 = ReLU()(conv2)\n",
    "    \n",
    "    pool2 = MaxPool2D(2)(conv2)\n",
    "    \n",
    "    conv3 = Conv2D(64, 3, padding='same', name='conv3')(pool2)\n",
    "    conv3 = ReLU()(conv3)\n",
    "    \n",
    "    pool3 = GlobalAveragePooling2D()(conv3)\n",
    "    \n",
    "    fc1 = Flatten()(pool3)\n",
    "    fc1 = Dense(64)(fc1)\n",
    "    fc1 = ReLU()(fc1)\n",
    "    \n",
    "    fc2 = Dense(10)(fc1)\n",
    "    outputs =Softmax()(fc2)\n",
    "    \n",
    "    return Model(inputs, outputs)"
   ]
  },
  {
   "cell_type": "code",
   "execution_count": 4,
   "metadata": {
    "scrolled": false
   },
   "outputs": [
    {
     "name": "stdout",
     "output_type": "stream",
     "text": [
      "Model: \"functional_1\"\n",
      "_________________________________________________________________\n",
      "Layer (type)                 Output Shape              Param #   \n",
      "=================================================================\n",
      "input_1 (InputLayer)         [(None, 28, 28, 1)]       0         \n",
      "_________________________________________________________________\n",
      "conv1 (Conv2D)               (None, 28, 28, 16)        160       \n",
      "_________________________________________________________________\n",
      "re_lu (ReLU)                 (None, 28, 28, 16)        0         \n",
      "_________________________________________________________________\n",
      "max_pooling2d (MaxPooling2D) (None, 14, 14, 16)        0         \n",
      "_________________________________________________________________\n",
      "conv2 (Conv2D)               (None, 14, 14, 32)        4640      \n",
      "_________________________________________________________________\n",
      "re_lu_1 (ReLU)               (None, 14, 14, 32)        0         \n",
      "_________________________________________________________________\n",
      "max_pooling2d_1 (MaxPooling2 (None, 7, 7, 32)          0         \n",
      "_________________________________________________________________\n",
      "conv3 (Conv2D)               (None, 7, 7, 64)          18496     \n",
      "_________________________________________________________________\n",
      "re_lu_2 (ReLU)               (None, 7, 7, 64)          0         \n",
      "_________________________________________________________________\n",
      "global_average_pooling2d (Gl (None, 64)                0         \n",
      "_________________________________________________________________\n",
      "flatten (Flatten)            (None, 64)                0         \n",
      "_________________________________________________________________\n",
      "dense (Dense)                (None, 64)                4160      \n",
      "_________________________________________________________________\n",
      "re_lu_3 (ReLU)               (None, 64)                0         \n",
      "_________________________________________________________________\n",
      "dense_1 (Dense)              (None, 10)                650       \n",
      "_________________________________________________________________\n",
      "softmax (Softmax)            (None, 10)                0         \n",
      "=================================================================\n",
      "Total params: 28,106\n",
      "Trainable params: 28,106\n",
      "Non-trainable params: 0\n",
      "_________________________________________________________________\n"
     ]
    }
   ],
   "source": [
    "adam = Adam(lr=0.001)\n",
    "model = CNN()\n",
    "model.compile(loss='categorical_crossentropy', optimizer=adam, metrics=['categorical_accuracy'])\n",
    "model.summary()"
   ]
  },
  {
   "cell_type": "markdown",
   "metadata": {},
   "source": [
    "### Training"
   ]
  },
  {
   "cell_type": "code",
   "execution_count": 5,
   "metadata": {
    "scrolled": true
   },
   "outputs": [
    {
     "name": "stdout",
     "output_type": "stream",
     "text": [
      "Epoch 1/20\n",
      "938/938 [==============================] - 3s 3ms/step - loss: 0.7251 - categorical_accuracy: 0.7617 - val_loss: 0.2312 - val_categorical_accuracy: 0.9288\n",
      "Epoch 2/20\n",
      "938/938 [==============================] - 2s 2ms/step - loss: 0.2119 - categorical_accuracy: 0.9351 - val_loss: 0.1460 - val_categorical_accuracy: 0.9562\n",
      "Epoch 3/20\n",
      "938/938 [==============================] - 2s 2ms/step - loss: 0.1510 - categorical_accuracy: 0.9540 - val_loss: 0.1014 - val_categorical_accuracy: 0.9694\n",
      "Epoch 4/20\n",
      "938/938 [==============================] - 2s 2ms/step - loss: 0.1154 - categorical_accuracy: 0.9644 - val_loss: 0.0854 - val_categorical_accuracy: 0.9733\n",
      "Epoch 5/20\n",
      "938/938 [==============================] - 2s 2ms/step - loss: 0.0935 - categorical_accuracy: 0.9715 - val_loss: 0.0697 - val_categorical_accuracy: 0.9784\n",
      "Epoch 6/20\n",
      "938/938 [==============================] - 2s 2ms/step - loss: 0.0796 - categorical_accuracy: 0.9756 - val_loss: 0.0614 - val_categorical_accuracy: 0.9812\n",
      "Epoch 7/20\n",
      "938/938 [==============================] - 2s 3ms/step - loss: 0.0686 - categorical_accuracy: 0.9783 - val_loss: 0.0568 - val_categorical_accuracy: 0.9818\n",
      "Epoch 8/20\n",
      "938/938 [==============================] - 2s 2ms/step - loss: 0.0598 - categorical_accuracy: 0.9813 - val_loss: 0.0541 - val_categorical_accuracy: 0.9831\n",
      "Epoch 9/20\n",
      "938/938 [==============================] - 2s 2ms/step - loss: 0.0542 - categorical_accuracy: 0.9839 - val_loss: 0.0502 - val_categorical_accuracy: 0.9843\n",
      "Epoch 10/20\n",
      "938/938 [==============================] - 2s 2ms/step - loss: 0.0496 - categorical_accuracy: 0.9840 - val_loss: 0.0437 - val_categorical_accuracy: 0.9850\n",
      "Epoch 11/20\n",
      "938/938 [==============================] - 2s 2ms/step - loss: 0.0429 - categorical_accuracy: 0.9866 - val_loss: 0.0429 - val_categorical_accuracy: 0.9853\n",
      "Epoch 12/20\n",
      "938/938 [==============================] - 2s 2ms/step - loss: 0.0404 - categorical_accuracy: 0.9876 - val_loss: 0.0432 - val_categorical_accuracy: 0.9860\n",
      "Epoch 13/20\n",
      "938/938 [==============================] - 2s 2ms/step - loss: 0.0374 - categorical_accuracy: 0.9882 - val_loss: 0.0448 - val_categorical_accuracy: 0.9858\n",
      "Epoch 14/20\n",
      "938/938 [==============================] - 2s 2ms/step - loss: 0.0335 - categorical_accuracy: 0.9894 - val_loss: 0.0545 - val_categorical_accuracy: 0.9813\n",
      "Epoch 15/20\n",
      "938/938 [==============================] - 2s 2ms/step - loss: 0.0307 - categorical_accuracy: 0.9900 - val_loss: 0.0318 - val_categorical_accuracy: 0.9891\n",
      "Epoch 16/20\n",
      "938/938 [==============================] - 2s 2ms/step - loss: 0.0278 - categorical_accuracy: 0.9909 - val_loss: 0.0326 - val_categorical_accuracy: 0.9889\n",
      "Epoch 17/20\n",
      "938/938 [==============================] - 2s 3ms/step - loss: 0.0271 - categorical_accuracy: 0.9914 - val_loss: 0.0416 - val_categorical_accuracy: 0.9864\n",
      "Epoch 18/20\n",
      "938/938 [==============================] - 2s 2ms/step - loss: 0.0238 - categorical_accuracy: 0.9922 - val_loss: 0.0418 - val_categorical_accuracy: 0.9866\n",
      "Epoch 19/20\n",
      "938/938 [==============================] - 2s 3ms/step - loss: 0.0221 - categorical_accuracy: 0.9928 - val_loss: 0.0374 - val_categorical_accuracy: 0.9870\n",
      "Epoch 20/20\n",
      "938/938 [==============================] - 2s 3ms/step - loss: 0.0224 - categorical_accuracy: 0.9925 - val_loss: 0.0291 - val_categorical_accuracy: 0.9912\n"
     ]
    },
    {
     "data": {
      "image/png": "[encoded data removed]",
      "text/plain": [
       "<Figure size 432x288 with 1 Axes>"
      ]
     },
     "metadata": {
      "needs_background": "light"
     },
     "output_type": "display_data"
    },
    {
     "data": {
      "image/png": "[encoded data removed]",
      "text/plain": [
       "<Figure size 432x288 with 1 Axes>"
      ]
     },
     "metadata": {
      "needs_background": "light"
     },
     "output_type": "display_data"
    }
   ],
   "source": [
    "history = model.fit(x_train, y_train, epochs = 20, batch_size = 64, validation_data=(x_test, y_test), shuffle=True)\n",
    "\n",
    "plt.plot(history.history['loss'])\n",
    "plt.plot(history.history['val_loss'])\n",
    "plt.title('Model loss')\n",
    "plt.ylabel('Loss')\n",
    "plt.xlabel('Epoch')\n",
    "plt.legend(['Train', 'Test'], loc='upper left')\n",
    "plt.show()\n",
    "\n",
    "plt.plot(history.history['categorical_accuracy'])\n",
    "plt.plot(history.history['val_categorical_accuracy'])\n",
    "plt.title('Model accuracy')\n",
    "plt.ylabel('Accuracy')\n",
    "plt.xlabel('Epoch')\n",
    "plt.legend(['Train', 'Test'], loc='upper left')\n",
    "plt.show()\n",
    "\n",
    "model.save('./model/model.h5')"
   ]
  },
  {
   "cell_type": "markdown",
   "metadata": {},
   "source": [
    "### Evaluation"
   ]
  },
  {
   "cell_type": "code",
   "execution_count": 6,
   "metadata": {},
   "outputs": [
    {
     "name": "stdout",
     "output_type": "stream",
     "text": [
      "accuracy:  0.9911999702453613\n",
      "label: 6\n",
      "prediction:  6\n"
     ]
    },
    {
     "data": {
      "image/png": "[encoded data removed]",
      "text/plain": [
       "<Figure size 432x288 with 1 Axes>"
      ]
     },
     "metadata": {
      "needs_background": "light"
     },
     "output_type": "display_data"
    }
   ],
   "source": [
    "accuracy = model.evaluate(x_test, y_test, verbose=0)\n",
    "print('accuracy: ', accuracy[1])\n",
    "\n",
    "# select a test image\n",
    "num = 91\n",
    "\n",
    "index_real = np.unravel_index(y_test[num].argmax(), y_test[num].shape)\n",
    "print('label:', index_real[0])\n",
    "\n",
    "category = model.predict(np.expand_dims(x_test[num],axis=0))\n",
    "index_predict = np.unravel_index(category.argmax(), category.shape)\n",
    "print('prediction: ', index_predict[1])\n",
    "\n",
    "plt.imshow(np.squeeze(x_test[num]),cmap='gray')\n",
    "plt.show()"
   ]
  }
 ],
 "metadata": {
  "kernelspec": {
   "display_name": "Python 3",
   "language": "python",
   "name": "python3"
  },
  "language_info": {
   "codemirror_mode": {
    "name": "ipython",
    "version": 3
   },
   "file_extension": ".py",
   "mimetype": "text/x-python",
   "name": "python",
   "nbconvert_exporter": "python",
   "pygments_lexer": "ipython3",
   "version": "3.8.3"
  }
 },
 "nbformat": 4,
 "nbformat_minor": 2
}
